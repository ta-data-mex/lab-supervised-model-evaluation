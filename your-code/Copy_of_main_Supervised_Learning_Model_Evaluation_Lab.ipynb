{
  "nbformat": 4,
  "nbformat_minor": 0,
  "metadata": {
    "kernelspec": {
      "display_name": "Python 3",
      "language": "python",
      "name": "python3"
    },
    "language_info": {
      "codemirror_mode": {
        "name": "ipython",
        "version": 3
      },
      "file_extension": ".py",
      "mimetype": "text/x-python",
      "name": "python",
      "nbconvert_exporter": "python",
      "pygments_lexer": "ipython3",
      "version": "3.7.2"
    },
    "colab": {
      "name": "Copy of main Supervised Learning Model Evaluation Lab.ipynb",
      "provenance": [],
      "collapsed_sections": []
    }
  },
  "cells": [
    {
      "cell_type": "markdown",
      "metadata": {
        "id": "jFKGKxaqC_9F"
      },
      "source": [
        "# Supervised Learning Model Evaluation Lab\n",
        "\n",
        "Complete the exercises below to solidify your knowledge and understanding of supervised learning model evaluation."
      ]
    },
    {
      "cell_type": "code",
      "metadata": {
        "id": "0Z2I9uJ9C_9F"
      },
      "source": [
        "import pandas as pd \n",
        "import numpy as np\n",
        "\n",
        "import matplotlib.pyplot as plt\n",
        "import seaborn as sns\n",
        "from sklearn import metrics\n",
        "from sklearn.model_selection import train_test_split\n",
        "from sklearn.pipeline import make_pipeline\n",
        "from sklearn.feature_extraction.text import CountVectorizer, TfidfVectorizer\n",
        "\n",
        "from sklearn.naive_bayes import MultinomialNB, GaussianNB, BernoulliNB\n",
        "from sklearn.metrics import classification_report, confusion_matrix, accuracy_score\n",
        "from sklearn.datasets import make_blobs, load_wine , fetch_20newsgroups\n",
        "from sklearn.metrics import plot_confusion_matrix, roc_auc_score, roc_curve\n",
        "\n",
        "from sklearn.linear_model import LinearRegression\n",
        "from sklearn.metrics import r2_score"
      ],
      "execution_count": null,
      "outputs": []
    },
    {
      "cell_type": "markdown",
      "metadata": {
        "id": "P-hnyGvbC_9G"
      },
      "source": [
        "## Regression Model Evaluation"
      ]
    },
    {
      "cell_type": "code",
      "metadata": {
        "id": "_1348utIC_9G"
      },
      "source": [
        "from sklearn.datasets import load_boston\n",
        "\n",
        "data = load_boston()\n",
        "\n",
        "X = pd.DataFrame(data[\"data\"], columns=data[\"feature_names\"])\n",
        "y = pd.DataFrame(data[\"target\"], columns=['MEDV'])\n",
        "\n",
        "data = pd.concat([X, y], axis=1)"
      ],
      "execution_count": null,
      "outputs": []
    },
    {
      "cell_type": "markdown",
      "metadata": {
        "id": "g2rpDssJC_9G"
      },
      "source": [
        "-## 1. Split this data set into training (80%) and testing (20%) sets.\n",
        "\n",
        "The `MEDV` field represents the median value of owner-occupied homes (in $1000's) and is the target variable that we will want to predict."
      ]
    },
    {
      "cell_type": "code",
      "metadata": {
        "id": "Mx6q-9SVC_9G"
      },
      "source": [
        "X_train, X_test, y_train, y_test = train_test_split(X,\n",
        "                                                    y,\n",
        "                                                    test_size=0.2,\n",
        "                                                    random_state=42)"
      ],
      "execution_count": null,
      "outputs": []
    },
    {
      "cell_type": "markdown",
      "metadata": {
        "id": "S8rjKuk4C_9G"
      },
      "source": [
        "## 2. Train a `LinearRegression` model on this data set and generate predictions on both the training and the testing set."
      ]
    },
    {
      "cell_type": "code",
      "metadata": {
        "id": "pdgZp3NQC_9H",
        "colab": {
          "base_uri": "https://localhost:8080/"
        },
        "outputId": "69de7c00-0f01-47a6-e3bd-863b46791bd3"
      },
      "source": [
        "model_LR = LinearRegression()\n",
        "model_LR.fit(X_train,y_train)"
      ],
      "execution_count": null,
      "outputs": [
        {
          "output_type": "execute_result",
          "data": {
            "text/plain": [
              "LinearRegression(copy_X=True, fit_intercept=True, n_jobs=None, normalize=False)"
            ]
          },
          "metadata": {
            "tags": []
          },
          "execution_count": 39
        }
      ]
    },
    {
      "cell_type": "code",
      "metadata": {
        "colab": {
          "base_uri": "https://localhost:8080/"
        },
        "id": "wZ2_iOT9GD3s",
        "outputId": "1049d86f-561d-4141-e4df-3ec867bb80eb"
      },
      "source": [
        "predict_train = model_LR.predict(X_train)\n",
        "predict_train[:10]"
      ],
      "execution_count": null,
      "outputs": [
        {
          "output_type": "execute_result",
          "data": {
            "text/plain": [
              "array([[-0.13337979],\n",
              "       [-0.07219427],\n",
              "       [ 1.17602799],\n",
              "       [ 0.00825707],\n",
              "       [-0.00972756],\n",
              "       [ 1.68517486],\n",
              "       [ 1.28520161],\n",
              "       [-0.069746  ],\n",
              "       [-0.07794821],\n",
              "       [-0.16037231]])"
            ]
          },
          "metadata": {
            "tags": []
          },
          "execution_count": 40
        }
      ]
    },
    {
      "cell_type": "code",
      "metadata": {
        "colab": {
          "base_uri": "https://localhost:8080/"
        },
        "id": "dlKAeTISGno3",
        "outputId": "8eea9b8b-91cd-4894-a171-111663f5509b"
      },
      "source": [
        "predict_test = model_LR.predict(X_test)\n",
        "predict_test[:10]"
      ],
      "execution_count": null,
      "outputs": [
        {
          "output_type": "execute_result",
          "data": {
            "text/plain": [
              "array([[ 1.23071715],\n",
              "       [-0.04010441],\n",
              "       [ 2.21970287],\n",
              "       [ 1.34966889],\n",
              "       [ 1.28429336],\n",
              "       [ 0.02248402],\n",
              "       [ 1.05726124],\n",
              "       [ 1.82403704],\n",
              "       [ 1.36824643],\n",
              "       [ 1.06766437]])"
            ]
          },
          "metadata": {
            "tags": []
          },
          "execution_count": 41
        }
      ]
    },
    {
      "cell_type": "markdown",
      "metadata": {
        "id": "HYi2P8FXC_9H"
      },
      "source": [
        "## 3. Calculate and print R-squared for both the training and the testing set."
      ]
    },
    {
      "cell_type": "code",
      "metadata": {
        "id": "xOzwPdd6Jh7A"
      },
      "source": [
        ""
      ],
      "execution_count": null,
      "outputs": []
    },
    {
      "cell_type": "code",
      "metadata": {
        "id": "lm1jXu1eC_9H",
        "colab": {
          "base_uri": "https://localhost:8080/"
        },
        "outputId": "cd99e2e2-130a-4ab3-9390-a9962c945ee4"
      },
      "source": [
        "r2_score(y_train,predict_train)"
      ],
      "execution_count": null,
      "outputs": [
        {
          "output_type": "execute_result",
          "data": {
            "text/plain": [
              "0.9254199044989622"
            ]
          },
          "metadata": {
            "tags": []
          },
          "execution_count": 42
        }
      ]
    },
    {
      "cell_type": "code",
      "metadata": {
        "colab": {
          "base_uri": "https://localhost:8080/"
        },
        "id": "gHs3glrsG4dN",
        "outputId": "1580977f-1934-4b96-c308-a0e1e0754c32"
      },
      "source": [
        "r2_score(y_test,predict_test)"
      ],
      "execution_count": null,
      "outputs": [
        {
          "output_type": "execute_result",
          "data": {
            "text/plain": [
              "0.9468960016420045"
            ]
          },
          "metadata": {
            "tags": []
          },
          "execution_count": 43
        }
      ]
    },
    {
      "cell_type": "markdown",
      "metadata": {
        "id": "VpUJyfPzC_9H"
      },
      "source": [
        "## 4. Calculate and print mean squared error for both the training and the testing set."
      ]
    },
    {
      "cell_type": "markdown",
      "metadata": {
        "id": "BoymH4J9KuOk"
      },
      "source": [
        ""
      ]
    },
    {
      "cell_type": "code",
      "metadata": {
        "id": "D31fTxgrC_9H",
        "colab": {
          "base_uri": "https://localhost:8080/"
        },
        "outputId": "56089887-d195-4356-e245-a36adf058018"
      },
      "source": [
        "from sklearn.metrics import mean_squared_error\n",
        "mean_squared_error(y_train,predict_train)"
      ],
      "execution_count": null,
      "outputs": [
        {
          "output_type": "execute_result",
          "data": {
            "text/plain": [
              "0.04909338369821791"
            ]
          },
          "metadata": {
            "tags": []
          },
          "execution_count": 44
        }
      ]
    },
    {
      "cell_type": "code",
      "metadata": {
        "colab": {
          "base_uri": "https://localhost:8080/"
        },
        "id": "FredrRTwK9_2",
        "outputId": "4b248ab7-8e9d-413c-8781-c4e6b7de7872"
      },
      "source": [
        "mean_squared_error(y_test,predict_test)"
      ],
      "execution_count": null,
      "outputs": [
        {
          "output_type": "execute_result",
          "data": {
            "text/plain": [
              "0.037113794407976866"
            ]
          },
          "metadata": {
            "tags": []
          },
          "execution_count": 45
        }
      ]
    },
    {
      "cell_type": "markdown",
      "metadata": {
        "id": "sPUam57oC_9H"
      },
      "source": [
        "## 5. Calculate and print mean absolute error for both the training and the testing set."
      ]
    },
    {
      "cell_type": "code",
      "metadata": {
        "id": "Re1FpG3JC_9H",
        "colab": {
          "base_uri": "https://localhost:8080/"
        },
        "outputId": "26f29753-b617-4fc4-d7a1-9fd9f882a18b"
      },
      "source": [
        "from sklearn.metrics import mean_absolute_error\n",
        "mean_absolute_error(y_train,predict_train)"
      ],
      "execution_count": null,
      "outputs": [
        {
          "output_type": "execute_result",
          "data": {
            "text/plain": [
              "0.17139700580706987"
            ]
          },
          "metadata": {
            "tags": []
          },
          "execution_count": 46
        }
      ]
    },
    {
      "cell_type": "code",
      "metadata": {
        "colab": {
          "base_uri": "https://localhost:8080/"
        },
        "id": "ghQta-zyLO41",
        "outputId": "a2581ee4-962f-4a22-d82a-0eeee3d5af42"
      },
      "source": [
        "mean_absolute_error(y_test,predict_test)"
      ],
      "execution_count": null,
      "outputs": [
        {
          "output_type": "execute_result",
          "data": {
            "text/plain": [
              "0.14637694965308523"
            ]
          },
          "metadata": {
            "tags": []
          },
          "execution_count": 47
        }
      ]
    },
    {
      "cell_type": "markdown",
      "metadata": {
        "id": "M6sJvxJxC_9I"
      },
      "source": [
        "## Classification Model Evaluation"
      ]
    },
    {
      "cell_type": "code",
      "metadata": {
        "id": "cyPJMAtoC_9I"
      },
      "source": [
        "from sklearn.datasets import load_iris\n",
        "\n",
        "data = load_iris()\n",
        "\n",
        "X = pd.DataFrame(data[\"data\"], columns=data[\"feature_names\"])\n",
        "y = pd.DataFrame(data[\"target\"], columns=[\"class\"])\n",
        "\n",
        "data = pd.concat([X, y], axis=1)"
      ],
      "execution_count": null,
      "outputs": []
    },
    {
      "cell_type": "markdown",
      "metadata": {
        "id": "08XTGn4QC_9I"
      },
      "source": [
        "## 6. Split this data set into training (80%) and testing (20%) sets.\n",
        "\n",
        "The `class` field represents the type of flower and is the target variable that we will want to predict."
      ]
    },
    {
      "cell_type": "code",
      "metadata": {
        "id": "SCpxeynCC_9I"
      },
      "source": [
        "X_train, X_test, y_train, y_test = train_test_split(X,y,test_size=0.2,random_state=42)"
      ],
      "execution_count": null,
      "outputs": []
    },
    {
      "cell_type": "markdown",
      "metadata": {
        "id": "S8R0LWMBC_9I"
      },
      "source": [
        "## 7. Train a `LogisticRegression` model on this data set and generate predictions on both the training and the testing set."
      ]
    },
    {
      "cell_type": "code",
      "metadata": {
        "id": "Mde465zmC_9I"
      },
      "source": [
        "from sklearn.linear_model import LogisticRegression\n",
        "model = LogisticRegression()"
      ],
      "execution_count": null,
      "outputs": []
    },
    {
      "cell_type": "code",
      "metadata": {
        "colab": {
          "base_uri": "https://localhost:8080/"
        },
        "id": "G0cWhXkwOGC9",
        "outputId": "284ec00b-06d0-4031-acff-4d39cd7ef276"
      },
      "source": [
        "model.fit(X_train,y_train)"
      ],
      "execution_count": null,
      "outputs": [
        {
          "output_type": "stream",
          "text": [
            "/usr/local/lib/python3.7/dist-packages/sklearn/utils/validation.py:760: DataConversionWarning: A column-vector y was passed when a 1d array was expected. Please change the shape of y to (n_samples, ), for example using ravel().\n",
            "  y = column_or_1d(y, warn=True)\n",
            "/usr/local/lib/python3.7/dist-packages/sklearn/linear_model/_logistic.py:940: ConvergenceWarning: lbfgs failed to converge (status=1):\n",
            "STOP: TOTAL NO. of ITERATIONS REACHED LIMIT.\n",
            "\n",
            "Increase the number of iterations (max_iter) or scale the data as shown in:\n",
            "    https://scikit-learn.org/stable/modules/preprocessing.html\n",
            "Please also refer to the documentation for alternative solver options:\n",
            "    https://scikit-learn.org/stable/modules/linear_model.html#logistic-regression\n",
            "  extra_warning_msg=_LOGISTIC_SOLVER_CONVERGENCE_MSG)\n"
          ],
          "name": "stderr"
        },
        {
          "output_type": "execute_result",
          "data": {
            "text/plain": [
              "LogisticRegression(C=1.0, class_weight=None, dual=False, fit_intercept=True,\n",
              "                   intercept_scaling=1, l1_ratio=None, max_iter=100,\n",
              "                   multi_class='auto', n_jobs=None, penalty='l2',\n",
              "                   random_state=None, solver='lbfgs', tol=0.0001, verbose=0,\n",
              "                   warm_start=False)"
            ]
          },
          "metadata": {
            "tags": []
          },
          "execution_count": 50
        }
      ]
    },
    {
      "cell_type": "code",
      "metadata": {
        "colab": {
          "base_uri": "https://localhost:8080/"
        },
        "id": "ZHavlr5MO9eZ",
        "outputId": "ea0e46a2-7bd5-4832-894e-af0ef8930917"
      },
      "source": [
        "y_pred_train = model.predict(X_train)\n",
        "y_pred_train"
      ],
      "execution_count": null,
      "outputs": [
        {
          "output_type": "execute_result",
          "data": {
            "text/plain": [
              "array([0, 0, 1, 0, 0, 2, 1, 0, 0, 0, 2, 1, 1, 0, 0, 1, 2, 2, 1, 2, 1, 2,\n",
              "       1, 0, 2, 1, 0, 0, 0, 1, 2, 0, 0, 0, 1, 0, 1, 2, 0, 1, 2, 0, 2, 2,\n",
              "       1, 1, 2, 1, 0, 1, 2, 0, 0, 1, 2, 0, 2, 0, 0, 2, 1, 2, 2, 2, 2, 1,\n",
              "       0, 0, 2, 2, 0, 0, 0, 1, 2, 0, 2, 2, 0, 1, 1, 2, 1, 2, 0, 2, 1, 2,\n",
              "       1, 1, 1, 0, 1, 1, 0, 1, 2, 2, 0, 1, 2, 2, 0, 2, 0, 1, 2, 2, 1, 2,\n",
              "       1, 1, 2, 2, 0, 1, 2, 0, 1, 2])"
            ]
          },
          "metadata": {
            "tags": []
          },
          "execution_count": 53
        }
      ]
    },
    {
      "cell_type": "code",
      "metadata": {
        "colab": {
          "base_uri": "https://localhost:8080/"
        },
        "id": "AsH387jlPEPg",
        "outputId": "42d9d5e6-9b95-4c09-8743-35e539e751f8"
      },
      "source": [
        "y_pred_test = model.predict(X_test)\n",
        "y_pred_test"
      ],
      "execution_count": null,
      "outputs": [
        {
          "output_type": "execute_result",
          "data": {
            "text/plain": [
              "array([1, 0, 2, 1, 1, 0, 1, 2, 1, 1, 2, 0, 0, 0, 0, 1, 2, 1, 1, 2, 0, 2,\n",
              "       0, 2, 2, 2, 2, 2, 0, 0])"
            ]
          },
          "metadata": {
            "tags": []
          },
          "execution_count": 54
        }
      ]
    },
    {
      "cell_type": "markdown",
      "metadata": {
        "id": "RCykXnEJC_9I"
      },
      "source": [
        "## 8. Calculate and print the accuracy score for both the training and the testing set."
      ]
    },
    {
      "cell_type": "code",
      "metadata": {
        "id": "qQMReujoC_9I",
        "colab": {
          "base_uri": "https://localhost:8080/"
        },
        "outputId": "0707dfcf-cb4c-4120-f899-6877fccc8b03"
      },
      "source": [
        "metrics.accuracy_score(y_train, y_pred_train)"
      ],
      "execution_count": null,
      "outputs": [
        {
          "output_type": "execute_result",
          "data": {
            "text/plain": [
              "0.975"
            ]
          },
          "metadata": {
            "tags": []
          },
          "execution_count": 58
        }
      ]
    },
    {
      "cell_type": "code",
      "metadata": {
        "colab": {
          "base_uri": "https://localhost:8080/"
        },
        "id": "loGPKSnRP6lt",
        "outputId": "feddc568-c08c-4006-deca-1566a258aae6"
      },
      "source": [
        "metrics.accuracy_score(y_test, y_pred_test)"
      ],
      "execution_count": null,
      "outputs": [
        {
          "output_type": "execute_result",
          "data": {
            "text/plain": [
              "1.0"
            ]
          },
          "metadata": {
            "tags": []
          },
          "execution_count": 59
        }
      ]
    },
    {
      "cell_type": "markdown",
      "metadata": {
        "id": "u0XY_SqQC_9J"
      },
      "source": [
        "## 9. Calculate and print the balanced accuracy score for both the training and the testing set."
      ]
    },
    {
      "cell_type": "code",
      "metadata": {
        "id": "eSiWqcZQC_9J",
        "colab": {
          "base_uri": "https://localhost:8080/"
        },
        "outputId": "f842e36d-622d-4879-b743-7e212a35d8f2"
      },
      "source": [
        "metrics.balanced_accuracy_score(y_train, y_pred_train)"
      ],
      "execution_count": null,
      "outputs": [
        {
          "output_type": "execute_result",
          "data": {
            "text/plain": [
              "0.975609756097561"
            ]
          },
          "metadata": {
            "tags": []
          },
          "execution_count": 60
        }
      ]
    },
    {
      "cell_type": "code",
      "metadata": {
        "colab": {
          "base_uri": "https://localhost:8080/"
        },
        "id": "1rPLP6DBQSa2",
        "outputId": "c9a79c50-30ab-4f98-c384-5f3017e400af"
      },
      "source": [
        "metrics.balanced_accuracy_score(y_test,y_pred_test)"
      ],
      "execution_count": null,
      "outputs": [
        {
          "output_type": "execute_result",
          "data": {
            "text/plain": [
              "1.0"
            ]
          },
          "metadata": {
            "tags": []
          },
          "execution_count": 62
        }
      ]
    },
    {
      "cell_type": "markdown",
      "metadata": {
        "id": "rOOyG_zjC_9J"
      },
      "source": [
        "## 10. Calculate and print the precision score for both the training and the testing set."
      ]
    },
    {
      "cell_type": "code",
      "metadata": {
        "id": "Xq3_XaEsC_9J",
        "colab": {
          "base_uri": "https://localhost:8080/"
        },
        "outputId": "47a4b239-d074-48b0-a178-ae69cdc728d8"
      },
      "source": [
        "from sklearn.metrics import precision_score\n",
        "metrics.precision_score(y_train, y_pred_train, average='macro')"
      ],
      "execution_count": null,
      "outputs": [
        {
          "output_type": "execute_result",
          "data": {
            "text/plain": [
              "0.9761904761904763"
            ]
          },
          "metadata": {
            "tags": []
          },
          "execution_count": 66
        }
      ]
    },
    {
      "cell_type": "code",
      "metadata": {
        "colab": {
          "base_uri": "https://localhost:8080/"
        },
        "id": "1G1yutspQtjl",
        "outputId": "04d8e301-c1b2-44ed-f80a-1e7e62ab9da8"
      },
      "source": [
        "metrics.precision_score(y_test, y_pred_test, average='macro')"
      ],
      "execution_count": null,
      "outputs": [
        {
          "output_type": "execute_result",
          "data": {
            "text/plain": [
              "1.0"
            ]
          },
          "metadata": {
            "tags": []
          },
          "execution_count": 67
        }
      ]
    },
    {
      "cell_type": "markdown",
      "metadata": {
        "id": "LtzEm4gkC_9J"
      },
      "source": [
        "## 11. Calculate and print the recall score for both the training and the testing set."
      ]
    },
    {
      "cell_type": "code",
      "metadata": {
        "id": "c_uqiPxCC_9J",
        "colab": {
          "base_uri": "https://localhost:8080/"
        },
        "outputId": "2f4b09a8-dd94-40e8-9f69-1396fc460696"
      },
      "source": [
        "from sklearn.metrics import recall_score\n",
        "metrics.recall_score(y_test, y_pred_test, average='macro')"
      ],
      "execution_count": null,
      "outputs": [
        {
          "output_type": "execute_result",
          "data": {
            "text/plain": [
              "1.0"
            ]
          },
          "metadata": {
            "tags": []
          },
          "execution_count": 68
        }
      ]
    },
    {
      "cell_type": "code",
      "metadata": {
        "colab": {
          "base_uri": "https://localhost:8080/"
        },
        "id": "zjV5sxWVQ8v_",
        "outputId": "22a860e6-fbbb-45d0-915a-6e4f15411331"
      },
      "source": [
        "metrics.recall_score(y_train, y_pred_train, average='macro')"
      ],
      "execution_count": null,
      "outputs": [
        {
          "output_type": "execute_result",
          "data": {
            "text/plain": [
              "0.975609756097561"
            ]
          },
          "metadata": {
            "tags": []
          },
          "execution_count": 69
        }
      ]
    },
    {
      "cell_type": "markdown",
      "metadata": {
        "id": "O9RFnh5fC_9J"
      },
      "source": [
        "## 12. Calculate and print the F1 score for both the training and the testing set."
      ]
    },
    {
      "cell_type": "code",
      "metadata": {
        "id": "jp2On7xKC_9J",
        "colab": {
          "base_uri": "https://localhost:8080/"
        },
        "outputId": "0a2ba403-1f95-48ff-9aab-5cb15fcf8220"
      },
      "source": [
        "metrics.f1_score(y_test, y_pred_test, average='macro')"
      ],
      "execution_count": null,
      "outputs": [
        {
          "output_type": "execute_result",
          "data": {
            "text/plain": [
              "1.0"
            ]
          },
          "metadata": {
            "tags": []
          },
          "execution_count": 71
        }
      ]
    },
    {
      "cell_type": "code",
      "metadata": {
        "colab": {
          "base_uri": "https://localhost:8080/"
        },
        "id": "dEiylql6RIVz",
        "outputId": "04542d7c-97fa-4da1-d3f4-11e98f53e26f"
      },
      "source": [
        "metrics.f1_score(y_train, y_pred_train, average='macro')"
      ],
      "execution_count": null,
      "outputs": [
        {
          "output_type": "execute_result",
          "data": {
            "text/plain": [
              "0.9749960931395533"
            ]
          },
          "metadata": {
            "tags": []
          },
          "execution_count": 72
        }
      ]
    },
    {
      "cell_type": "markdown",
      "metadata": {
        "id": "qJeR_KtpC_9J"
      },
      "source": [
        "## 13. Generate confusion matrices for both the training and the testing set."
      ]
    },
    {
      "cell_type": "code",
      "metadata": {
        "colab": {
          "base_uri": "https://localhost:8080/"
        },
        "id": "lkGUAnxxRey-",
        "outputId": "64047c7c-482f-4aa4-bb36-03cfb37ef875"
      },
      "source": [
        "classifier = MultinomialNB()\n",
        "classifier.fit(X_train, y_train)"
      ],
      "execution_count": null,
      "outputs": [
        {
          "output_type": "stream",
          "text": [
            "/usr/local/lib/python3.7/dist-packages/sklearn/utils/validation.py:760: DataConversionWarning: A column-vector y was passed when a 1d array was expected. Please change the shape of y to (n_samples, ), for example using ravel().\n",
            "  y = column_or_1d(y, warn=True)\n"
          ],
          "name": "stderr"
        },
        {
          "output_type": "execute_result",
          "data": {
            "text/plain": [
              "MultinomialNB(alpha=1.0, class_prior=None, fit_prior=True)"
            ]
          },
          "metadata": {
            "tags": []
          },
          "execution_count": 77
        }
      ]
    },
    {
      "cell_type": "code",
      "metadata": {
        "id": "_hIAH8F1C_9K",
        "colab": {
          "base_uri": "https://localhost:8080/",
          "height": 320
        },
        "outputId": "f7b742aa-2535-4349-a869-61ac4c07c1e7"
      },
      "source": [
        "plot_confusion_matrix(classifier, X_test, y_test)"
      ],
      "execution_count": null,
      "outputs": [
        {
          "output_type": "execute_result",
          "data": {
            "text/plain": [
              "<sklearn.metrics._plot.confusion_matrix.ConfusionMatrixDisplay at 0x7f5926a22b90>"
            ]
          },
          "metadata": {
            "tags": []
          },
          "execution_count": 79
        },
        {
          "output_type": "display_data",
          "data": {
            "image/png": "[encoded data removed]",
            "text/plain": [
              "<Figure size 432x288 with 2 Axes>"
            ]
          },
          "metadata": {
            "tags": [],
            "needs_background": "light"
          }
        }
      ]
    },
    {
      "cell_type": "code",
      "metadata": {
        "id": "gUMh0jerC_9K",
        "colab": {
          "base_uri": "https://localhost:8080/",
          "height": 316
        },
        "outputId": "ccd31426-f8fe-45d2-a06e-0206c8923c6e"
      },
      "source": [
        "plot_confusion_matrix(classifier, X_train, y_train)"
      ],
      "execution_count": null,
      "outputs": [
        {
          "output_type": "execute_result",
          "data": {
            "text/plain": [
              "<sklearn.metrics._plot.confusion_matrix.ConfusionMatrixDisplay at 0x7f592698a610>"
            ]
          },
          "metadata": {
            "tags": []
          },
          "execution_count": 80
        },
        {
          "output_type": "display_data",
          "data": {
            "image/png": "[encoded data removed]",
            "text/plain": [
              "<Figure size 432x288 with 2 Axes>"
            ]
          },
          "metadata": {
            "tags": [],
            "needs_background": "light"
          }
        }
      ]
    },
    {
      "cell_type": "markdown",
      "metadata": {
        "id": "DBhbJ_8_C_9K"
      },
      "source": [
        "## Bonus: For each of the data sets in this lab, try training with some of the other models you have learned about, recalculate the evaluation metrics, and compare to determine which models perform best on each data set."
      ]
    }
  ]
}